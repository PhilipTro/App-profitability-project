{
 "cells": [
  {
   "cell_type": "markdown",
   "metadata": {},
   "source": [
    "# Profitable App Profiles for Apple Store & Google Play\n",
    "\n",
    "This project is aimed at investigating the profitability of the different applications found on the Apple Store and Google Play. The profitability of the applications will be determined via how much ad-revenue the applications can generate via in-app ads. The ad-revenue will be dependent on the number of users an application has, and it will be the primary marker for the profitability of the application. \n",
    "\n",
    "The goal of the project will be to increase the understanding of which types of applications are likely to attract more users via analyzing the data taken from Apple Store and Google Play. A sce"
   ]
  },
  {
   "cell_type": "code",
   "execution_count": 1,
   "metadata": {},
   "outputs": [],
   "source": [
    "from csv import reader\n",
    "\n",
    "#Open, read and store AppleStore.csv as a list of list\n",
    "open_file_appStore = open('AppleStore.csv', encoding='utf8')\n",
    "read_file_appStore = reader(open_file_appStore)\n",
    "apps_data_apple = list(read_file_appStore)\n",
    "\n",
    "#Open, read and store googleplaystore.csv as a list of list\n",
    "open_file_googlePlayStore = open('googleplaystore.csv', encoding='utf8')\n",
    "read_file_googlePlayStore = reader(open_file_googlePlayStore)\n",
    "apps_data_google = list(read_file_googlePlayStore)"
   ]
  },
  {
   "cell_type": "markdown",
   "metadata": {},
   "source": [
    "We define the explore_data function below, which allows us to present the data in a more readable fashion. "
   ]
  },
  {
   "cell_type": "code",
   "execution_count": 2,
   "metadata": {},
   "outputs": [],
   "source": [
    "#Defining the 'Explore funtion'\n",
    "def explore_data(dataset, start, end, rows_and_columns = False):\n",
    "    dataset_slice = dataset[start:end]\n",
    "    for row in dataset_slice:\n",
    "        print(row)\n",
    "        print('\\n') \n",
    "        \n",
    "    if rows_and_columns:\n",
    "        print('Number of rows: ', len(dataset))\n",
    "        print('Number of columns', len(dataset[0]))\n"
   ]
  },
  {
   "cell_type": "markdown",
   "metadata": {},
   "source": [
    "After having stored the datasets, and having defined a exploration function: We are able to observe a part of the data set in order to get a better understanding of how it is structured. "
   ]
  },
  {
   "cell_type": "code",
   "execution_count": 3,
   "metadata": {},
   "outputs": [
    {
     "name": "stdout",
     "output_type": "stream",
     "text": [
      "['1', '281656475', 'PAC-MAN Premium', '100788224', 'USD', '3.99', '21292', '26', '4', '4.5', '6.3.5', '4+', 'Games', '38', '5', '10', '1']\n",
      "\n",
      "\n",
      "['2', '281796108', 'Evernote - stay organized', '158578688', 'USD', '0', '161065', '26', '4', '3.5', '8.2.2', '4+', 'Productivity', '37', '5', '23', '1']\n",
      "\n",
      "\n",
      "['3', '281940292', 'WeatherBug - Local Weather, Radar, Maps, Alerts', '100524032', 'USD', '0', '188583', '2822', '3.5', '4.5', '5.0.0', '4+', 'Weather', '37', '5', '3', '1']\n",
      "\n",
      "\n",
      "['4', '282614216', 'eBay: Best App to Buy, Sell, Save! Online Shopping', '128512000', 'USD', '0', '262241', '649', '4', '4.5', '5.10.0', '12+', 'Shopping', '37', '5', '9', '1']\n",
      "\n",
      "\n",
      "Number of rows:  7198\n",
      "Number of columns 17\n",
      "None\n",
      "['Photo Editor & Candy Camera & Grid & ScrapBook', 'ART_AND_DESIGN', '4.1', '159', '19M', '10,000+', 'Free', '0', 'Everyone', 'Art & Design', 'January 7, 2018', '1.0.0', '4.0.3 and up']\n",
      "\n",
      "\n",
      "['Coloring book moana', 'ART_AND_DESIGN', '3.9', '967', '14M', '500,000+', 'Free', '0', 'Everyone', 'Art & Design;Pretend Play', 'January 15, 2018', '2.0.0', '4.0.3 and up']\n",
      "\n",
      "\n",
      "['U Launcher Lite – FREE Live Cool Themes, Hide Apps', 'ART_AND_DESIGN', '4.7', '87510', '8.7M', '5,000,000+', 'Free', '0', 'Everyone', 'Art & Design', 'August 1, 2018', '1.2.4', '4.0.3 and up']\n",
      "\n",
      "\n",
      "['Sketch - Draw & Paint', 'ART_AND_DESIGN', '4.5', '215644', '25M', '50,000,000+', 'Free', '0', 'Teen', 'Art & Design', 'June 8, 2018', 'Varies with device', '4.2 and up']\n",
      "\n",
      "\n",
      "Number of rows:  10842\n",
      "Number of columns 13\n",
      "None\n"
     ]
    }
   ],
   "source": [
    "print(explore_data(apps_data_apple,1,5,True))\n",
    "print(explore_data(apps_data_google,1,5,True))"
   ]
  },
  {
   "cell_type": "code",
   "execution_count": 4,
   "metadata": {},
   "outputs": [
    {
     "name": "stdout",
     "output_type": "stream",
     "text": [
      "Columns in AppleStore.csv:  ['', 'id', 'track_name', 'size_bytes', 'currency', 'price', 'rating_count_tot', 'rating_count_ver', 'user_rating', 'user_rating_ver', 'ver', 'cont_rating', 'prime_genre', 'sup_devices.num', 'ipadSc_urls.num', 'lang.num', 'vpp_lic']\n",
      "\n",
      "\n",
      "Columns in googleplaystore.csv:  ['App', 'Category', 'Rating', 'Reviews', 'Size', 'Installs', 'Type', 'Price', 'Content Rating', 'Genres', 'Last Updated', 'Current Ver', 'Android Ver']\n"
     ]
    }
   ],
   "source": [
    "print('Columns in AppleStore.csv: ', apps_data_apple[0])\n",
    "print('\\n')\n",
    "print('Columns in googleplaystore.csv: ', apps_data_google [0])"
   ]
  },
  {
   "cell_type": "markdown",
   "metadata": {},
   "source": [
    "### Variables\n",
    "Above we have the different columns from the two datasets. \n",
    "The columns describe the variables: \n",
    "\n",
    "Apple Store: \n",
    "\n",
    "\"id\" : App ID\n",
    "\n",
    "\"track_name\": App Name\n",
    "\n",
    "\"size_bytes\": Size (in Bytes)\n",
    "\n",
    "\"currency\": Currency Type\n",
    "\n",
    "\"price\": Price amount\n",
    "\n",
    "\"rating_count_tot\": User Rating counts (for all version)\n",
    "\n",
    "\"rating_count_ver\": User Rating counts (for current version)\n",
    "\n",
    "\"user_rating\" : Average User Rating value (for all version)\n",
    "\n",
    "\"user_rating_ver\": Average User Rating value (for current version)\n",
    "\n",
    "\"ver\" : Latest version code\n",
    "\n",
    "\"cont_rating\": Content Rating\n",
    "\n",
    "\"prime_genre\": Primary Genre\n",
    "\n",
    "\"sup_devices.num\": Number of supporting devices\n",
    "\n",
    "\"ipadSc_urls.num\": Number of screenshots showed for display\n",
    "\n",
    "\"lang.num\": Number of supported languages\n",
    "\n",
    "\"vpp_lic\": Vpp Device Based Licensing Enabled\n",
    "\n",
    "Google play: \n",
    "\n",
    "\"Application name\": The name of the application\n",
    "\n",
    "\"Category\": Category the app belongs to\n",
    "\n",
    "\"Rating\": Overall user rating of the app (as when scraped)\n",
    "\n",
    "\"Reviews\": Number of user reviews for the app (as when scraped)\n",
    "\n",
    "\"Size\" Size of the app (as when scraped)\n",
    "\n",
    "\"Installs\": Number of user downloads/installs for the app (as when scraped)\n",
    "\n",
    "\"Type\" Paid or Free\n",
    "\n",
    "\"Price\": Price of the app (as when scraped)\n",
    "\n",
    "\"Content Rating\": Age group the app is targeted at - Children / Mature 21+ / Adult\n",
    "\n",
    "\"Genres\": An app can belong to multiple genres (apart from its main category). For eg, a musical family game will belong to\n",
    "\n",
    "---\n",
    "Out of these columns we can see some variables that are of interest for analysis: Total rating count, Average user rating, Genre, Content Rating, number of installs. \n",
    "\n",
    "   - [Apple Store Dataset](https://www.kaggle.com/datasets/ramamet4/app-store-apple-data-set-10k-apps)\n",
    "   -[Google Play Dataset](https://www.kaggle.com/datasets/lava18/google-play-store-apps) \n"
   ]
  },
  {
   "cell_type": "markdown",
   "metadata": {},
   "source": [
    "## Pre-processing\n",
    "\n",
    "This section will focus on the pre-processing of the data. Were our aim is to extract the applications which are written in english and are ad-drive (i.e free). We will furthermore filter out any duplicate, missing or incorrect data from the two datasets. \n",
    "\n",
    "#### Duplicates & missing values\n",
    "\n",
    "The section below will be dedicated to identifying duplicates in the two datasets. We will furthermore remove data points with missing or incorrect values."
   ]
  },
  {
   "cell_type": "code",
   "execution_count": 5,
   "metadata": {},
   "outputs": [
    {
     "name": "stdout",
     "output_type": "stream",
     "text": [
      "['Life Made WI-Fi Touchscreen Photo Frame', '1.9', '19', '3.0M', '1,000+', 'Free', '0', 'Everyone', '', 'February 11, 2018', '1.0.19', '4.0 and up']\n",
      "['Command & Conquer: Rivals', 'FAMILY', 'NaN', '0', 'Varies with device', '0', 'NaN', '0', 'Everyone 10+', 'Strategy', 'June 28, 2018', 'Varies with device', 'Varies with device']\n"
     ]
    }
   ],
   "source": [
    "#Identifying two faulty data points mentioned in documentation\n",
    "\n",
    "print(apps_data_google[10473])\n",
    "print(apps_data_google[9149])"
   ]
  },
  {
   "cell_type": "code",
   "execution_count": 6,
   "metadata": {},
   "outputs": [],
   "source": [
    "del apps_data_google[10473]\n",
    "#del apps_data_google[9149]"
   ]
  },
  {
   "cell_type": "code",
   "execution_count": 7,
   "metadata": {},
   "outputs": [
    {
     "name": "stdout",
     "output_type": "stream",
     "text": [
      "7198\n",
      "0\n",
      "[]\n"
     ]
    }
   ],
   "source": [
    "#Identifying duplicate values in Apple Store Dataset \n",
    "ios_unique_apps = []\n",
    "ios_duplicate_apps = []\n",
    "iteration = 0\n",
    "for row in apps_data_apple:\n",
    "    iteration += 1\n",
    "    app_name = row[1]\n",
    "    if app_name in ios_unique_apps:\n",
    "        ios_duplicate_apps.append(app_name)\n",
    "    else:\n",
    "        ios_unique_apps.append(app_name)\n",
    "\n",
    "print(len(ios_unique_apps))\n",
    "print(len(ios_duplicate_apps))\n",
    "print(ios_duplicate_apps)\n",
    "\n"
   ]
  },
  {
   "cell_type": "markdown",
   "metadata": {},
   "source": [
    "In the code above we can see that two apps are flagged as duplicates. But these are separate apps with different developers according to [this discussion](https://www.kaggle.com/datasets/ramamet4/app-store-apple-data-set-10k-apps/discussion/90409) "
   ]
  },
  {
   "cell_type": "markdown",
   "metadata": {},
   "source": [
    "It is worth noting however that there are duplicate values in the Google Play dataset, which we can observe via the code snippet below. The code lists all applications that have duplicate names from the dataset, counts how many they are, and give a few example of duplicate entries. "
   ]
  },
  {
   "cell_type": "code",
   "execution_count": 8,
   "metadata": {},
   "outputs": [
    {
     "name": "stdout",
     "output_type": "stream",
     "text": [
      "Number of duplicate apps: 1181\n",
      "Examples of duplicate apps: ['Quick PDF Scanner + OCR FREE', 'Box', 'Google My Business']\n"
     ]
    }
   ],
   "source": [
    "#Identifying duplicate values in Google Play Dataset \n",
    "duplicate_apps = []\n",
    "unique_apps = []\n",
    "\n",
    "for app in apps_data_google:\n",
    "    name = app[0]\n",
    "    if name in unique_apps:\n",
    "        duplicate_apps.append(name)\n",
    "    else:\n",
    "        unique_apps.append(name)\n",
    "print('Number of duplicate apps:', len(duplicate_apps))\n",
    "print('Examples of duplicate apps:', duplicate_apps[:3])\n",
    "\n",
    "\n"
   ]
  },
  {
   "cell_type": "markdown",
   "metadata": {},
   "source": [
    "We can observe that there are over 1000 duplicate entries in the Google Play dataset, and we are also given some examples of these duplicates. It is a necessity to remove the duplicates from the dataset in order to avoid a skewed analysis later on. But it is also worth noting that the duplicates might differ in quality, which necessitates a method for choosing which duplicates to keep. This will be acomplished by selecting the data point which has the highest amount of reviews, seeing as that one should be most up-to-date. "
   ]
  },
  {
   "cell_type": "code",
   "execution_count": 9,
   "metadata": {
    "scrolled": true
   },
   "outputs": [
    {
     "name": "stdout",
     "output_type": "stream",
     "text": [
      "['Instagram', 'SOCIAL', '4.5', '66577313', 'Varies with device', '1,000,000,000+', 'Free', '0', 'Teen', 'Social', 'July 31, 2018', 'Varies with device', 'Varies with device']\n",
      "['Instagram', 'SOCIAL', '4.5', '66577446', 'Varies with device', '1,000,000,000+', 'Free', '0', 'Teen', 'Social', 'July 31, 2018', 'Varies with device', 'Varies with device']\n",
      "['Instagram', 'SOCIAL', '4.5', '66577313', 'Varies with device', '1,000,000,000+', 'Free', '0', 'Teen', 'Social', 'July 31, 2018', 'Varies with device', 'Varies with device']\n",
      "['Instagram', 'SOCIAL', '4.5', '66509917', 'Varies with device', '1,000,000,000+', 'Free', '0', 'Teen', 'Social', 'July 31, 2018', 'Varies with device', 'Varies with device']\n"
     ]
    }
   ],
   "source": [
    "#Example of duplicate data in google play store\n",
    "for app in apps_data_google:\n",
    "    name = app[0]\n",
    "    if name == 'Instagram':\n",
    "        print(app)\n"
   ]
  },
  {
   "cell_type": "code",
   "execution_count": 10,
   "metadata": {},
   "outputs": [
    {
     "name": "stdout",
     "output_type": "stream",
     "text": [
      "10841\n",
      "9659\n",
      "9659\n"
     ]
    }
   ],
   "source": [
    "reviews_max = {}\n",
    "\n",
    "for app in apps_data_google[1:]:\n",
    "    name = app[0]\n",
    "    #if 'M' in app[3]:\n",
    "     #   str_n_reviews = app[3].replace('M','')\n",
    "      #  n_reviews = float(str_n_reviews)\n",
    "       # n_reviews *= 1000000\n",
    "    #else:\n",
    "    n_reviews = float(app[3])\n",
    "    \n",
    "    if name in reviews_max and reviews_max[name] < n_reviews:\n",
    "        reviews_max[name] = n_reviews\n",
    "        \n",
    "    elif name not in reviews_max:\n",
    "        reviews_max[name] = n_reviews\n",
    "print(len(apps_data_google))\n",
    "print(len(apps_data_google[1:]) - len(duplicate_apps) )\n",
    "print(len(reviews_max))"
   ]
  },
  {
   "cell_type": "markdown",
   "metadata": {},
   "source": [
    "The code above identifies the duplicated entries, and thereafter returns the one with the highest amount of rewievs. This is controlled via a couple of print statements. Below is the code used to delete the duplicated entries."
   ]
  },
  {
   "cell_type": "code",
   "execution_count": 11,
   "metadata": {},
   "outputs": [],
   "source": [
    "android_clean = []\n",
    "already_added = []\n",
    "\n",
    "for app in apps_data_google[1:]:\n",
    "    name = app[0]\n",
    "    n_reviews = float(app[3])\n",
    "    \n",
    "    if (reviews_max[name] == n_reviews) and (name not in already_added):\n",
    "        android_clean.append(app)\n",
    "        already_added.append(name)"
   ]
  },
  {
   "cell_type": "code",
   "execution_count": 12,
   "metadata": {},
   "outputs": [
    {
     "name": "stdout",
     "output_type": "stream",
     "text": [
      "Is \"Instagram\" a english word?:  True\n",
      "Is \"爱奇艺PPS -《欢乐颂2》电视剧热播\" a english word?:  False\n"
     ]
    }
   ],
   "source": [
    "def eng_character(string):\n",
    "    non_ascii = 0\n",
    "    for character in string:\n",
    "        if ord(character) > 127:\n",
    "            non_ascii += 1\n",
    "   \n",
    "    if non_ascii > 3:\n",
    "        return False\n",
    "    else:\n",
    "        return True\n",
    "\n",
    "print('Is \"Instagram\" a english word?: ', eng_character('Instagram'))\n",
    "print('Is \"爱奇艺PPS -《欢乐颂2》电视剧热播\" a english word?: ', eng_character('爱奇艺PPS -《欢乐颂2》电视剧热播'))"
   ]
  },
  {
   "cell_type": "markdown",
   "metadata": {},
   "source": [
    "This project will be focused on the profitability of english-speaking apps. Which is why we have developed and tested a function above, which checks if the name of an app is written in english or not. The function is not perfect but should be satisfactory for now. In the code below we will implement the function on our two data_sets, and thereafter we will extract the english-speaking apps. "
   ]
  },
  {
   "cell_type": "code",
   "execution_count": 13,
   "metadata": {},
   "outputs": [
    {
     "name": "stdout",
     "output_type": "stream",
     "text": [
      "['Photo Editor & Candy Camera & Grid & ScrapBook', 'ART_AND_DESIGN', '4.1', '159', '19M', '10,000+', 'Free', '0', 'Everyone', 'Art & Design', 'January 7, 2018', '1.0.0', '4.0.3 and up']\n",
      "\n",
      "\n",
      "['U Launcher Lite – FREE Live Cool Themes, Hide Apps', 'ART_AND_DESIGN', '4.7', '87510', '8.7M', '5,000,000+', 'Free', '0', 'Everyone', 'Art & Design', 'August 1, 2018', '1.2.4', '4.0.3 and up']\n",
      "\n",
      "\n",
      "['Sketch - Draw & Paint', 'ART_AND_DESIGN', '4.5', '215644', '25M', '50,000,000+', 'Free', '0', 'Teen', 'Art & Design', 'June 8, 2018', 'Varies with device', '4.2 and up']\n",
      "\n",
      "\n",
      "['Pixel Draw - Number Art Coloring Book', 'ART_AND_DESIGN', '4.3', '967', '2.8M', '100,000+', 'Free', '0', 'Everyone', 'Art & Design;Creativity', 'June 20, 2018', '1.1', '4.4 and up']\n",
      "\n",
      "\n",
      "['Paper flowers instructions', 'ART_AND_DESIGN', '4.4', '167', '5.6M', '50,000+', 'Free', '0', 'Everyone', 'Art & Design', 'March 26, 2017', '1.0', '2.3 and up']\n",
      "\n",
      "\n",
      "Number of rows:  9614\n",
      "Number of columns 13\n",
      "\n",
      "\n",
      "['1', '281656475', 'PAC-MAN Premium', '100788224', 'USD', '3.99', '21292', '26', '4', '4.5', '6.3.5', '4+', 'Games', '38', '5', '10', '1']\n",
      "\n",
      "\n",
      "['2', '281796108', 'Evernote - stay organized', '158578688', 'USD', '0', '161065', '26', '4', '3.5', '8.2.2', '4+', 'Productivity', '37', '5', '23', '1']\n",
      "\n",
      "\n",
      "['3', '281940292', 'WeatherBug - Local Weather, Radar, Maps, Alerts', '100524032', 'USD', '0', '188583', '2822', '3.5', '4.5', '5.0.0', '4+', 'Weather', '37', '5', '3', '1']\n",
      "\n",
      "\n",
      "['4', '282614216', 'eBay: Best App to Buy, Sell, Save! Online Shopping', '128512000', 'USD', '0', '262241', '649', '4', '4.5', '5.10.0', '12+', 'Shopping', '37', '5', '9', '1']\n",
      "\n",
      "\n",
      "Number of rows:  7198\n",
      "Number of columns 17\n"
     ]
    }
   ],
   "source": [
    "eng_android = []\n",
    "eng_apple = []\n",
    "non_english_g = []\n",
    "non_english_a = []\n",
    "\n",
    "for app in android_clean:\n",
    "    name = app[0]\n",
    "    if eng_character(name):\n",
    "        eng_android.append(app)\n",
    "    else:\n",
    "        non_english_g.append(app)\n",
    "\n",
    "\n",
    "for app in apps_data_apple:\n",
    "    name = app[1]\n",
    "    if eng_character(name):\n",
    "        eng_apple.append(app)\n",
    "    else:\n",
    "        non_english_a.append(app)\n",
    "\n",
    "explore_data(eng_android, 0, 5, True)\n",
    "print('\\n')\n",
    "explore_data(eng_apple, 1, 5, True) #different index value due to header being included"
   ]
  },
  {
   "cell_type": "markdown",
   "metadata": {},
   "source": [
    "Above we have som examples of the cleaned data, where we:\n",
    "- Removed inaccurate data\n",
    "- Removed duplicate app entries\n",
    "- Removed non-English apps\n",
    "\n",
    "We will now focus on filtering based by price. The target data is apps that are free, seeing as they typically hold ad-revenue as their main source of income, and are most applicable to our project. \n"
   ]
  },
  {
   "cell_type": "code",
   "execution_count": 14,
   "metadata": {},
   "outputs": [
    {
     "name": "stdout",
     "output_type": "stream",
     "text": [
      "8864\n",
      "0\n"
     ]
    }
   ],
   "source": [
    "android_final = []\n",
    "apple_final = []\n",
    "\n",
    "android_charged = []\n",
    "apple_charged = []\n",
    "for app in eng_android:\n",
    "    price = app[7]\n",
    "    if price == '0':\n",
    "        android_final.append(app)\n",
    "    \n",
    "for app in eng_apple[1:]:\n",
    "    price = app[4]\n",
    "    if price == '0.0':\n",
    "        apple_final.append(app)\n",
    "\n",
    "print(len(android_final))\n",
    "print(len(apple_final))"
   ]
  },
  {
   "cell_type": "markdown",
   "metadata": {},
   "source": [
    "## Analysing the data\n",
    "\n",
    "The data pre-processing is complete, and we have a data on a collection on apps that are relevant towards the target of presenting a profit profile for the application. This section will be focused on analysing the data, with the goal of having a clear understanding of what drives an applications profitability. This will then enable us to propose a plan for an profitable app as well as a validation strategy for said app. We will hereafter utilize the following validation strategy for building a profitable app: \n",
    "1. Build a minimal Android version of the app, and add it to Google Play.\n",
    "2. If the app has a good response from users, we develop it further.\n",
    "3. If the app is profitable after six months, we build an iOS version of the app and add it to the App Store.\n",
    "\n",
    "Let us begin the analysis by getting a sense of the most common genres for each market. For this, we'll build a frequency table for the prime_genre column of the App Store data set, and the Genres and Category columns of the Google Play data set. "
   ]
  },
  {
   "cell_type": "code",
   "execution_count": 15,
   "metadata": {},
   "outputs": [],
   "source": [
    "# Function for generating frequency tables with \n",
    "# percentages\n",
    "def freq_table(dataset, index):\n",
    "    frequency_table = {}\n",
    "    total = 0\n",
    "    \n",
    "    for row in dataset:\n",
    "        total += 1\n",
    "        value = row[index]\n",
    "        if value in frequency_table:\n",
    "            frequency_table[value] += 1\n",
    "        else:\n",
    "            frequency_table[value] = 1\n",
    "    \n",
    "    percentage_frequency = {}\n",
    "    \n",
    "    for key in frequency_table:\n",
    "        percentage = (frequency_table[key]/total)*100\n",
    "        percentage_frequency[key] = percentage\n",
    "    \n",
    "    return percentage_frequency\n",
    "\n",
    "# Function for displaying the frequency tables\n",
    "# in a read able manner. \n",
    "\n",
    "def display_table (dataset, index):\n",
    "    table = freq_table(dataset, index)\n",
    "    table_display = []\n",
    "    for key in table:\n",
    "        key_val_as_tuple = (table[key], key)\n",
    "        table_display.append(key_val_as_tuple)\n",
    "    \n",
    "    table_sorted = sorted(table_display, reverse = True)\n",
    "    for entry in table_sorted:\n",
    "        print(entry[1], ':', entry[0])\n",
    "\n",
    "def printdict (dataset):\n",
    "    diction = dataset\n",
    "    a_list = []\n",
    "    key = ''\n",
    "    value = 0\n",
    "    for iteration in diction:\n",
    "        key = iteration[0]\n",
    "        value = iteration[1]\n",
    "        print(key, ': ', value)\n"
   ]
  },
  {
   "cell_type": "markdown",
   "metadata": {},
   "source": [
    "### Apple Frequency Table (prime_genre)\n",
    "\n",
    "Below we have a frequency table, in percentages, based on the relative frequencies of different instances of the \"prime_genre\" variable in the Apple Store dataset. This table presents us information regarding how prevalent the different genres of applications are on the apple store. \n",
    "\n",
    "The first finding of note is that the most common genre, games, consists of more than half of the applications. It represents 58% of the application found at the Apple store and it is by far the most popular genre. We can furthermore see that the frequencies of the genres are very imbalanced seeing as the next common genre only represents 8% of the applications. \n",
    "\n",
    "Most of the application seems to be aimed at entertainment as a whole, with the two most popular genres being 'Games' and 'Entertainment'. There are however signs of the there being a prevalent amount of applications designed for pratical purposes as well with genres such as Photo & Video (5%), education (4%) and shopping (3%) being quite common. They are however not comparable to the scope of entertainment-aligned applications. \n",
    "\n",
    "It is difficult to arrive at an recommended app profile with this information alone. The large amount of entertainment applications would suggest that the demand for those are higher amongst Apple customers, with Games representing the largest market, but there are no indicators for how popular specific applications are withing these genres. It is entirely possible that one of the less common genres hosts some of the more popular applications. "
   ]
  },
  {
   "cell_type": "code",
   "execution_count": 16,
   "metadata": {},
   "outputs": [
    {
     "name": "stdout",
     "output_type": "stream",
     "text": [
      "None\n"
     ]
    }
   ],
   "source": [
    "print(display_table(apple_final, -5))"
   ]
  },
  {
   "cell_type": "markdown",
   "metadata": {},
   "source": [
    "### Android Frequency Table (Category)\n",
    "\n",
    "The previous section covered an frequency table over the genres in the apple store. The table below shows the frequencies of the different categories in the Google Play store. \n",
    "\n",
    "Here we can see that the data is less imbalanced as compared to the Apple Store. The most common genre, \"Family\" only represents 19% of the applications, instead of the representing over half of the applications such as \"Games\" did for the Apple store. There is a more even distribution amongs the frequencies in the Google Play Store. \n",
    "\n",
    "The landscape of the apps seem to differ from the Apple Store as well. In the Apple store there was an overwhelming amount of applications aimed at entertainment. The apps found in the Google Play store seems to be more aimed at utility, even though entertainment focused apps still are common. It is worth noting however that the most common genre, \"Family\", mainly consists on games aimed at younger audiences. Further investigation of the \"Genres\" table suggests that most apps are focused on utility however. Where the most common genre is \"Tools\" with a frequency of 8% and many other popular genres such as: \"Education\", \"Business\" and \"Productivity\".\n",
    "\n",
    "There is currently not enough information to suggest an recommended app profile for the landscape, due to similar reasons that it was impossible to recommend one for the Apple store. "
   ]
  },
  {
   "cell_type": "code",
   "execution_count": 17,
   "metadata": {},
   "outputs": [
    {
     "name": "stdout",
     "output_type": "stream",
     "text": [
      "FAMILY : 18.907942238267147\n",
      "GAME : 9.724729241877256\n",
      "TOOLS : 8.461191335740072\n",
      "BUSINESS : 4.591606498194946\n",
      "LIFESTYLE : 3.9034296028880866\n",
      "PRODUCTIVITY : 3.892148014440433\n",
      "FINANCE : 3.7003610108303246\n",
      "MEDICAL : 3.531137184115524\n",
      "SPORTS : 3.395758122743682\n",
      "PERSONALIZATION : 3.3167870036101084\n",
      "COMMUNICATION : 3.2378158844765346\n",
      "HEALTH_AND_FITNESS : 3.0798736462093865\n",
      "PHOTOGRAPHY : 2.944494584837545\n",
      "NEWS_AND_MAGAZINES : 2.7978339350180503\n",
      "SOCIAL : 2.6624548736462095\n",
      "TRAVEL_AND_LOCAL : 2.33528880866426\n",
      "SHOPPING : 2.2450361010830324\n",
      "BOOKS_AND_REFERENCE : 2.1435018050541514\n",
      "DATING : 1.861462093862816\n",
      "VIDEO_PLAYERS : 1.7937725631768955\n",
      "MAPS_AND_NAVIGATION : 1.3989169675090252\n",
      "FOOD_AND_DRINK : 1.2409747292418771\n",
      "EDUCATION : 1.1620036101083033\n",
      "ENTERTAINMENT : 0.9589350180505415\n",
      "LIBRARIES_AND_DEMO : 0.9363718411552346\n",
      "AUTO_AND_VEHICLES : 0.9250902527075812\n",
      "HOUSE_AND_HOME : 0.8235559566787004\n",
      "WEATHER : 0.8009927797833934\n",
      "EVENTS : 0.7107400722021661\n",
      "PARENTING : 0.6543321299638989\n",
      "ART_AND_DESIGN : 0.6430505415162455\n",
      "COMICS : 0.6204873646209386\n",
      "BEAUTY : 0.5979241877256317\n",
      "None\n"
     ]
    }
   ],
   "source": [
    "print(display_table(android_final, 1))"
   ]
  },
  {
   "cell_type": "markdown",
   "metadata": {},
   "source": [
    "### Android Frequency Table (Genre) "
   ]
  },
  {
   "cell_type": "code",
   "execution_count": 18,
   "metadata": {},
   "outputs": [
    {
     "name": "stdout",
     "output_type": "stream",
     "text": [
      "Tools : 8.449909747292418\n",
      "Entertainment : 6.069494584837545\n",
      "Education : 5.347472924187725\n",
      "Business : 4.591606498194946\n",
      "Productivity : 3.892148014440433\n",
      "Lifestyle : 3.892148014440433\n",
      "Finance : 3.7003610108303246\n",
      "Medical : 3.531137184115524\n",
      "Sports : 3.463447653429603\n",
      "Personalization : 3.3167870036101084\n",
      "Communication : 3.2378158844765346\n",
      "Action : 3.1024368231046933\n",
      "Health & Fitness : 3.0798736462093865\n",
      "Photography : 2.944494584837545\n",
      "News & Magazines : 2.7978339350180503\n",
      "Social : 2.6624548736462095\n",
      "Travel & Local : 2.3240072202166067\n",
      "Shopping : 2.2450361010830324\n",
      "Books & Reference : 2.1435018050541514\n",
      "Simulation : 2.0419675090252705\n",
      "Dating : 1.861462093862816\n",
      "Arcade : 1.8501805054151623\n",
      "Video Players & Editors : 1.7712093862815883\n",
      "Casual : 1.7599277978339352\n",
      "Maps & Navigation : 1.3989169675090252\n",
      "Food & Drink : 1.2409747292418771\n",
      "Puzzle : 1.128158844765343\n",
      "Racing : 0.9927797833935018\n",
      "Role Playing : 0.9363718411552346\n",
      "Libraries & Demo : 0.9363718411552346\n",
      "Auto & Vehicles : 0.9250902527075812\n",
      "Strategy : 0.9138086642599278\n",
      "House & Home : 0.8235559566787004\n",
      "Weather : 0.8009927797833934\n",
      "Events : 0.7107400722021661\n",
      "Adventure : 0.6768953068592057\n",
      "Comics : 0.6092057761732852\n",
      "Beauty : 0.5979241877256317\n",
      "Art & Design : 0.5979241877256317\n",
      "Parenting : 0.4963898916967509\n",
      "Card : 0.45126353790613716\n",
      "Casino : 0.42870036101083037\n",
      "Trivia : 0.41741877256317694\n",
      "Educational;Education : 0.39485559566787\n",
      "Board : 0.3835740072202166\n",
      "Educational : 0.3722924187725632\n",
      "Education;Education : 0.33844765342960287\n",
      "Word : 0.2594765342960289\n",
      "Casual;Pretend Play : 0.236913357400722\n",
      "Music : 0.2030685920577617\n",
      "Racing;Action & Adventure : 0.16922382671480143\n",
      "Puzzle;Brain Games : 0.16922382671480143\n",
      "Entertainment;Music & Video : 0.16922382671480143\n",
      "Casual;Brain Games : 0.13537906137184114\n",
      "Casual;Action & Adventure : 0.13537906137184114\n",
      "Arcade;Action & Adventure : 0.12409747292418773\n",
      "Action;Action & Adventure : 0.10153429602888085\n",
      "Educational;Pretend Play : 0.09025270758122744\n",
      "Simulation;Action & Adventure : 0.078971119133574\n",
      "Parenting;Education : 0.078971119133574\n",
      "Entertainment;Brain Games : 0.078971119133574\n",
      "Board;Brain Games : 0.078971119133574\n",
      "Parenting;Music & Video : 0.06768953068592057\n",
      "Educational;Brain Games : 0.06768953068592057\n",
      "Casual;Creativity : 0.06768953068592057\n",
      "Art & Design;Creativity : 0.06768953068592057\n",
      "Education;Pretend Play : 0.056407942238267145\n",
      "Role Playing;Pretend Play : 0.04512635379061372\n",
      "Education;Creativity : 0.04512635379061372\n",
      "Role Playing;Action & Adventure : 0.033844765342960284\n",
      "Puzzle;Action & Adventure : 0.033844765342960284\n",
      "Entertainment;Creativity : 0.033844765342960284\n",
      "Entertainment;Action & Adventure : 0.033844765342960284\n",
      "Educational;Creativity : 0.033844765342960284\n",
      "Educational;Action & Adventure : 0.033844765342960284\n",
      "Education;Music & Video : 0.033844765342960284\n",
      "Education;Brain Games : 0.033844765342960284\n",
      "Education;Action & Adventure : 0.033844765342960284\n",
      "Adventure;Action & Adventure : 0.033844765342960284\n",
      "Video Players & Editors;Music & Video : 0.02256317689530686\n",
      "Sports;Action & Adventure : 0.02256317689530686\n",
      "Simulation;Pretend Play : 0.02256317689530686\n",
      "Puzzle;Creativity : 0.02256317689530686\n",
      "Music;Music & Video : 0.02256317689530686\n",
      "Entertainment;Pretend Play : 0.02256317689530686\n",
      "Casual;Education : 0.02256317689530686\n",
      "Board;Action & Adventure : 0.02256317689530686\n",
      "Video Players & Editors;Creativity : 0.01128158844765343\n",
      "Trivia;Education : 0.01128158844765343\n",
      "Travel & Local;Action & Adventure : 0.01128158844765343\n",
      "Tools;Education : 0.01128158844765343\n",
      "Strategy;Education : 0.01128158844765343\n",
      "Strategy;Creativity : 0.01128158844765343\n",
      "Strategy;Action & Adventure : 0.01128158844765343\n",
      "Simulation;Education : 0.01128158844765343\n",
      "Role Playing;Brain Games : 0.01128158844765343\n",
      "Racing;Pretend Play : 0.01128158844765343\n",
      "Puzzle;Education : 0.01128158844765343\n",
      "Parenting;Brain Games : 0.01128158844765343\n",
      "Music & Audio;Music & Video : 0.01128158844765343\n",
      "Lifestyle;Pretend Play : 0.01128158844765343\n",
      "Lifestyle;Education : 0.01128158844765343\n",
      "Health & Fitness;Education : 0.01128158844765343\n",
      "Health & Fitness;Action & Adventure : 0.01128158844765343\n",
      "Entertainment;Education : 0.01128158844765343\n",
      "Communication;Creativity : 0.01128158844765343\n",
      "Comics;Creativity : 0.01128158844765343\n",
      "Casual;Music & Video : 0.01128158844765343\n",
      "Card;Action & Adventure : 0.01128158844765343\n",
      "Books & Reference;Education : 0.01128158844765343\n",
      "Art & Design;Pretend Play : 0.01128158844765343\n",
      "Art & Design;Action & Adventure : 0.01128158844765343\n",
      "Arcade;Pretend Play : 0.01128158844765343\n",
      "Adventure;Education : 0.01128158844765343\n",
      "None\n"
     ]
    }
   ],
   "source": [
    "print(display_table(android_final, -4))"
   ]
  },
  {
   "cell_type": "markdown",
   "metadata": {},
   "source": [
    "### Popular Genres & Genre Recommendation (Apple)\n",
    "The information presented above is not enough to generate a recommended app profile, and additional information is required. One of the most tangible pieces of information we are missing is how popular apps within an genre are. Which is why we are going to investigate which genres are most popular by users below, we are thereafter going to be able to suggest a genre for our recommended App Profile. "
   ]
  },
  {
   "cell_type": "code",
   "execution_count": 19,
   "metadata": {},
   "outputs": [],
   "source": [
    "prime_genres = freq_table(apple_final, -5)\n",
    "\n",
    "for genre in prime_genres:\n",
    "    total = 0\n",
    "    len_genre = 0\n",
    "    for app in apple_final:\n",
    "        genre_app = app[-5]\n",
    "        if genre_app == genre:\n",
    "            n_ratings = float(app[5])\n",
    "            total += n_ratings\n",
    "            len_genre += 1\n",
    "    avg_n_users = total/len_genre\n",
    "    print(genre,': ', avg_n_users)\n",
    "            "
   ]
  },
  {
   "cell_type": "markdown",
   "metadata": {},
   "source": [
    "Navigation is the most popular genre on average, but this is heavily influenced by apps such as Google maps and Waze. Which are substantially more popular than the other alternatives and drive up the average user amount of the app. "
   ]
  },
  {
   "cell_type": "code",
   "execution_count": 20,
   "metadata": {},
   "outputs": [],
   "source": [
    "for apps in apple_final:\n",
    "    if apps[-5] == 'Navigation':\n",
    "        print(apps[1], ': ', apps[5])"
   ]
  },
  {
   "cell_type": "markdown",
   "metadata": {},
   "source": [
    "Social Networking, Music and Weather genre are also similarily popular, where Social Networking might be explained by popular social media such as Facebook, Pinterest and Skype. It is also worth noting that other popular social media apps might not fall under Social Networking. Instagram, for example, is categorized as being under the genre Photo & Video. "
   ]
  },
  {
   "cell_type": "code",
   "execution_count": 21,
   "metadata": {},
   "outputs": [],
   "source": [
    "for apps in apple_final:\n",
    "    if apps[-5] == 'Social Networking':\n",
    "        print(apps[1], ': ', apps[5])   "
   ]
  },
  {
   "cell_type": "code",
   "execution_count": 22,
   "metadata": {},
   "outputs": [],
   "source": [
    "for apps in apple_final:\n",
    "    if apps[1] == 'Instagram':\n",
    "        print(apps[-5])"
   ]
  },
  {
   "cell_type": "markdown",
   "metadata": {},
   "source": [
    "The music genres popularity can also be explained by a few big actors such as Pandora and Spotify, and the in-app time typically spent by users is short (which mitigates the benefits of an ad-driven app)."
   ]
  },
  {
   "cell_type": "code",
   "execution_count": 23,
   "metadata": {},
   "outputs": [],
   "source": [
    "for apps in apple_final:\n",
    "    if apps[-5] == 'Music':\n",
    "        print(apps[1], ': ', apps[5])   "
   ]
  },
  {
   "cell_type": "markdown",
   "metadata": {},
   "source": [
    "The user distribibution is more even when it comes to the weather apps (even though there is a discrepancy between the giant apps and the runner-ups). But the main issue with the genre is that users typically do not spend a long time on weather apps. A critical point when the main source of income is ad-revenue. "
   ]
  },
  {
   "cell_type": "code",
   "execution_count": 24,
   "metadata": {},
   "outputs": [],
   "source": [
    "for apps in apple_final:\n",
    "    if apps[-5] == 'Weather':\n",
    "        print(apps[1], ': ', apps[5])   "
   ]
  },
  {
   "cell_type": "markdown",
   "metadata": {},
   "source": [
    "The reference genres user count seems to be due to a few popular app books such as the Bible and Dictionaries. The genre is one of the most popular however, and it would seem conceivable that the market could accomodate a new popular app. A recommended app profile could consist of making an app for a popular book (not already covered in the genre), and attract customers by including bonus features and content beyond the actual book. The apps would in that case be open for long periods of time, and the app users would therefore generate more ad-revenue than they would with an an, for example, weather app (which users typically only visit briefly)."
   ]
  },
  {
   "cell_type": "code",
   "execution_count": 25,
   "metadata": {},
   "outputs": [],
   "source": [
    "for apps in apple_final:\n",
    "    if apps[-5] == 'Reference':\n",
    "        print(apps[1], ': ', apps[5])   "
   ]
  },
  {
   "cell_type": "markdown",
   "metadata": {},
   "source": [
    "### Popular Genres & Genre Recommendation (Google Play)\n",
    "\n",
    "We are now moving on to the Google Play store, where we are going to implement a similar approach in order to investigate the most popular genres. The investigated variable will be the number of installs however, instead of the number of user ratings. \n",
    "\n",
    "Note: The number of installs variable is not very precise (with intervalls such as: 100+, 1 000+. 10 000+, 100 000+ etc.) but the accuracy should be sufficient for finding the most popular genre, a value like 100 000+ will be considered equivalent to 100 000. \n",
    "\n"
   ]
  },
  {
   "cell_type": "code",
   "execution_count": 26,
   "metadata": {},
   "outputs": [
    {
     "name": "stdout",
     "output_type": "stream",
     "text": [
      "ART_AND_DESIGN :  1986335.0877192982\n",
      "AUTO_AND_VEHICLES :  647317.8170731707\n",
      "BEAUTY :  513151.88679245283\n",
      "BOOKS_AND_REFERENCE :  8767811.894736841\n",
      "BUSINESS :  1712290.1474201474\n",
      "COMICS :  817657.2727272727\n",
      "COMMUNICATION :  38456119.167247385\n",
      "DATING :  854028.8303030303\n",
      "EDUCATION :  1833495.145631068\n",
      "ENTERTAINMENT :  11640705.88235294\n",
      "EVENTS :  253542.22222222222\n",
      "FINANCE :  1387692.475609756\n",
      "FOOD_AND_DRINK :  1924897.7363636363\n",
      "HEALTH_AND_FITNESS :  4188821.9853479853\n",
      "HOUSE_AND_HOME :  1331540.5616438356\n",
      "LIBRARIES_AND_DEMO :  638503.734939759\n",
      "LIFESTYLE :  1437816.2687861272\n",
      "GAME :  15588015.603248259\n",
      "FAMILY :  3695641.8198090694\n",
      "MEDICAL :  120550.61980830671\n",
      "SOCIAL :  23253652.127118643\n",
      "SHOPPING :  7036877.311557789\n",
      "PHOTOGRAPHY :  17840110.40229885\n",
      "SPORTS :  3638640.1428571427\n",
      "TRAVEL_AND_LOCAL :  13984077.710144928\n",
      "TOOLS :  10801391.298666667\n",
      "PERSONALIZATION :  5201482.6122448975\n",
      "PRODUCTIVITY :  16787331.344927534\n",
      "PARENTING :  542603.6206896552\n",
      "WEATHER :  5074486.197183099\n",
      "VIDEO_PLAYERS :  24727872.452830188\n",
      "NEWS_AND_MAGAZINES :  9549178.467741935\n",
      "MAPS_AND_NAVIGATION :  4056941.7741935486\n"
     ]
    }
   ],
   "source": [
    "freq_table_category = freq_table(android_final, 1)\n",
    "for category in freq_table_category:\n",
    "    total = 0\n",
    "    len_category = 0\n",
    "    for app in android_final:\n",
    "        category_app = app[1]\n",
    "        if category_app == category:\n",
    "            n_installs = app[5]\n",
    "            n_installs = n_installs.replace('+','')\n",
    "            n_installs = n_installs.replace(',','')\n",
    "            n_installs = float(n_installs)\n",
    "            total += n_installs\n",
    "            len_category += 1\n",
    "    avg_installs = total/len_category\n",
    "    print(category, ': ', avg_installs)\n"
   ]
  },
  {
   "cell_type": "markdown",
   "metadata": {},
   "source": [
    "We can see from the table above that there are som categories which stick out in terms of popularity. Such as: Communication, Games, Social and Books & References. The largest by far is the Communication category, but this is heavily influenced by a few giants such as Facebook and WhatsApp with over a billion installs.  \n"
   ]
  },
  {
   "cell_type": "code",
   "execution_count": 27,
   "metadata": {},
   "outputs": [
    {
     "name": "stdout",
     "output_type": "stream",
     "text": [
      "WhatsApp Messenger :  1,000,000,000+\n",
      "imo beta free calls and text :  100,000,000+\n",
      "Android Messages :  100,000,000+\n",
      "Google Duo - High Quality Video Calls :  500,000,000+\n",
      "Messenger – Text and Video Chat for Free :  1,000,000,000+\n",
      "imo free video calls and chat :  500,000,000+\n",
      "Skype - free IM & video calls :  1,000,000,000+\n",
      "Who :  100,000,000+\n",
      "GO SMS Pro - Messenger, Free Themes, Emoji :  100,000,000+\n",
      "LINE: Free Calls & Messages :  500,000,000+\n",
      "Google Chrome: Fast & Secure :  1,000,000,000+\n",
      "Firefox Browser fast & private :  100,000,000+\n",
      "UC Browser - Fast Download Private & Secure :  500,000,000+\n",
      "Gmail :  1,000,000,000+\n",
      "Hangouts :  1,000,000,000+\n",
      "Messenger Lite: Free Calls & Messages :  100,000,000+\n",
      "Kik :  100,000,000+\n",
      "KakaoTalk: Free Calls & Text :  100,000,000+\n",
      "Opera Mini - fast web browser :  100,000,000+\n",
      "Opera Browser: Fast and Secure :  100,000,000+\n",
      "Telegram :  100,000,000+\n",
      "Truecaller: Caller ID, SMS spam blocking & Dialer :  100,000,000+\n",
      "UC Browser Mini -Tiny Fast Private & Secure :  100,000,000+\n",
      "Viber Messenger :  500,000,000+\n",
      "WeChat :  100,000,000+\n",
      "Yahoo Mail – Stay Organized :  100,000,000+\n",
      "BBM - Free Calls & Messages :  100,000,000+\n"
     ]
    }
   ],
   "source": [
    "for app in android_final:\n",
    "    if app[1] == 'COMMUNICATION' and (app[5] == '1,000,000,000+'\n",
    "                                      or app[5] == '500,000,000+'\n",
    "                                      or app[5] == '100,000,000+'):\n",
    "        print(app[0],': ', app[5])"
   ]
  },
  {
   "cell_type": "markdown",
   "metadata": {},
   "source": [
    "The Category would be much less impressive however if we excluded these outliers:"
   ]
  },
  {
   "cell_type": "code",
   "execution_count": 28,
   "metadata": {},
   "outputs": [
    {
     "name": "stdout",
     "output_type": "stream",
     "text": [
      "Adjusted average:  3603485.3884615386\n",
      "Difference:  34852633.77878585\n"
     ]
    }
   ],
   "source": [
    "under_100m = []\n",
    "for app in android_final:\n",
    "    app_c = app[1]\n",
    "    n_installs = app[5]\n",
    "    n_installs = n_installs.replace(',','')\n",
    "    n_installs = n_installs.replace('+','')\n",
    "    if (app[1] == 'COMMUNICATION') and (float(n_installs) < 100000000):\n",
    "        under_100m.append(float(n_installs))\n",
    "adj_avg = sum(under_100m)/len(under_100m)\n",
    "diff = 38456119.167247385 - adj_avg\n",
    "print('Adjusted average: ', adj_avg)\n",
    "print('Difference: ', diff) \n"
   ]
  },
  {
   "cell_type": "markdown",
   "metadata": {},
   "source": [
    "This adjusted average shows us that there probably are not very many gains from competing with these giant apps, seeing as the average amount of installations for other apps is so low. The runner up to communication in terms of popularity are Video Players, where we can see a similar pattern: "
   ]
  },
  {
   "cell_type": "code",
   "execution_count": 29,
   "metadata": {},
   "outputs": [
    {
     "name": "stdout",
     "output_type": "stream",
     "text": [
      "YouTube :  1,000,000,000+\n",
      "Motorola Gallery :  100,000,000+\n",
      "VLC for Android :  100,000,000+\n",
      "Google Play Movies & TV :  1,000,000,000+\n",
      "MX Player :  500,000,000+\n",
      "Dubsmash :  100,000,000+\n",
      "VivaVideo - Video Editor & Photo Movie :  100,000,000+\n",
      "VideoShow-Video Editor, Video Maker, Beauty Camera :  100,000,000+\n",
      "Motorola FM Radio :  100,000,000+\n",
      "\n",
      "\n",
      "Adjusted average:  5544878.133333334\n",
      "Difference:  32911241.033914052\n"
     ]
    }
   ],
   "source": [
    "for app in android_final:\n",
    "    if app[1] == 'VIDEO_PLAYERS' and (app[5] == '1,000,000,000+'\n",
    "                                      or app[5] == '500,000,000+'\n",
    "                                      or app[5] == '100,000,000+'):\n",
    "        print(app[0],': ', app[5])\n",
    "under_100m = []\n",
    "for app in android_final:\n",
    "    app_c = app[1]\n",
    "    n_installs = app[5]\n",
    "    n_installs = n_installs.replace(',','')\n",
    "    n_installs = n_installs.replace('+','')\n",
    "    if (app[1] == 'VIDEO_PLAYERS') and (float(n_installs) < 100000000):\n",
    "        under_100m.append(float(n_installs))\n",
    "adj_avg = sum(under_100m)/len(under_100m)\n",
    "diff = 38456119.167247385 - adj_avg\n",
    "print('\\n')\n",
    "print('Adjusted average: ', adj_avg)\n",
    "print('Difference: ', diff) \n"
   ]
  },
  {
   "cell_type": "markdown",
   "metadata": {},
   "source": [
    "So that is also a candidate that is excluded from contention. The main issue with many of the more popular genres are that they are very skewed and misleading. There are categories such as games, but these can run the risk of being over-saturated as we saw in the Apple Store analysis. A better alternative could be to investigate if Books & Reference is a valid genre to recommend, seeing as we then could develop a cohesive app recommendation profile between the Apple Store and the Google Play Store. \n",
    "\n",
    "The first step in that case should be to investigate the most popular apps from the Genre: "
   ]
  },
  {
   "cell_type": "code",
   "execution_count": 30,
   "metadata": {},
   "outputs": [
    {
     "name": "stdout",
     "output_type": "stream",
     "text": [
      "E-Book Read - Read Book for free :  50,000+\n",
      "Download free book with green book :  100,000+\n",
      "Wikipedia :  10,000,000+\n",
      "Cool Reader :  10,000,000+\n",
      "Free Panda Radio Music :  100,000+\n",
      "Book store :  1,000,000+\n",
      "FBReader: Favorite Book Reader :  10,000,000+\n",
      "English Grammar Complete Handbook :  500,000+\n",
      "Free Books - Spirit Fanfiction and Stories :  1,000,000+\n",
      "Google Play Books :  1,000,000,000+\n",
      "AlReader -any text book reader :  5,000,000+\n",
      "Offline English Dictionary :  100,000+\n",
      "Offline: English to Tagalog Dictionary :  500,000+\n",
      "FamilySearch Tree :  1,000,000+\n",
      "Cloud of Books :  1,000,000+\n",
      "Recipes of Prophetic Medicine for free :  500,000+\n",
      "ReadEra – free ebook reader :  1,000,000+\n",
      "Anonymous caller detection :  10,000+\n",
      "Ebook Reader :  5,000,000+\n",
      "Litnet - E-books :  100,000+\n",
      "Read books online :  5,000,000+\n",
      "English to Urdu Dictionary :  500,000+\n",
      "eBoox: book reader fb2 epub zip :  1,000,000+\n",
      "English Persian Dictionary :  500,000+\n",
      "Flybook :  500,000+\n",
      "All Maths Formulas :  1,000,000+\n",
      "Ancestry :  5,000,000+\n",
      "HTC Help :  10,000,000+\n",
      "English translation from Bengali :  100,000+\n",
      "Pdf Book Download - Read Pdf Book :  100,000+\n",
      "Free Book Reader :  100,000+\n",
      "eBoox new: Reader for fb2 epub zip books :  50,000+\n",
      "Only 30 days in English, the guideline is guaranteed :  500,000+\n",
      "Moon+ Reader :  10,000,000+\n",
      "SH-02J Owner's Manual (Android 8.0) :  50,000+\n",
      "English-Myanmar Dictionary :  1,000,000+\n",
      "Golden Dictionary (EN-AR) :  1,000,000+\n",
      "All Language Translator Free :  1,000,000+\n",
      "Azpen eReader :  500,000+\n",
      "URBANO V 02 instruction manual :  100,000+\n",
      "Bible :  100,000,000+\n",
      "C Programs and Reference :  50,000+\n",
      "C Offline Tutorial :  1,000+\n",
      "C Programs Handbook :  50,000+\n",
      "Amazon Kindle :  100,000,000+\n",
      "Aab e Hayat Full Novel :  100,000+\n",
      "Aldiko Book Reader :  10,000,000+\n",
      "Google I/O 2018 :  500,000+\n",
      "R Language Reference Guide :  10,000+\n",
      "Learn R Programming Full :  5,000+\n",
      "R Programing Offline Tutorial :  1,000+\n",
      "Guide for R Programming :  5+\n",
      "Learn R Programming :  10+\n",
      "R Quick Reference Big Data :  1,000+\n",
      "V Made :  100,000+\n",
      "Wattpad 📖 Free Books :  100,000,000+\n",
      "Dictionary - WordWeb :  5,000,000+\n",
      "Guide (for X-MEN) :  100,000+\n",
      "AC Air condition Troubleshoot,Repair,Maintenance :  5,000+\n",
      "AE Bulletins :  1,000+\n",
      "Ae Allah na Dai (Rasa) :  10,000+\n",
      "50000 Free eBooks & Free AudioBooks :  5,000,000+\n",
      "Ag PhD Field Guide :  10,000+\n",
      "Ag PhD Deficiencies :  10,000+\n",
      "Ag PhD Planting Population Calculator :  1,000+\n",
      "Ag PhD Soybean Diseases :  1,000+\n",
      "Fertilizer Removal By Crop :  50,000+\n",
      "A-J Media Vault :  50+\n",
      "Al-Quran (Free) :  10,000,000+\n",
      "Al Quran (Tafsir & by Word) :  500,000+\n",
      "Al Quran Indonesia :  10,000,000+\n",
      "Al'Quran Bahasa Indonesia :  10,000,000+\n",
      "Al Quran Al karim :  1,000,000+\n",
      "Al-Muhaffiz :  50,000+\n",
      "Al Quran : EAlim - Translations & MP3 Offline :  5,000,000+\n",
      "Al-Quran 30 Juz free copies :  500,000+\n",
      "Koran Read &MP3 30 Juz Offline :  1,000,000+\n",
      "Hafizi Quran 15 lines per page :  1,000,000+\n",
      "Quran for Android :  10,000,000+\n",
      "Surah Al-Waqiah :  100,000+\n",
      "Hisnul Al Muslim - Hisn Invocations & Adhkaar :  100,000+\n",
      "Satellite AR :  1,000,000+\n",
      "Audiobooks from Audible :  100,000,000+\n",
      "Kinot & Eichah for Tisha B'Av :  10,000+\n",
      "AW Tozer Devotionals - Daily :  5,000+\n",
      "Tozer Devotional -Series 1 :  1,000+\n",
      "The Pursuit of God :  1,000+\n",
      "AY Sing :  5,000+\n",
      "Ay Hasnain k Nana Milad Naat :  10,000+\n",
      "Ay Mohabbat Teri Khatir Novel :  10,000+\n",
      "Arizona Statutes, ARS (AZ Law) :  1,000+\n",
      "Oxford A-Z of English Usage :  1,000,000+\n",
      "BD Fishpedia :  1,000+\n",
      "BD All Sim Offer :  10,000+\n",
      "Youboox - Livres, BD et magazines :  500,000+\n",
      "B&H Kids AR :  10,000+\n",
      "B y H Niños ES :  5,000+\n",
      "Dictionary.com: Find Definitions for English Words :  10,000,000+\n",
      "English Dictionary - Offline :  10,000,000+\n",
      "Bible KJV :  5,000,000+\n",
      "Borneo Bible, BM Bible :  10,000+\n",
      "MOD Black for BM :  100+\n",
      "BM Box :  1,000+\n",
      "Anime Mod for BM :  100+\n",
      "NOOK: Read eBooks & Magazines :  10,000,000+\n",
      "NOOK Audiobooks :  500,000+\n",
      "NOOK App for NOOK Devices :  500,000+\n",
      "Browsery by Barnes & Noble :  5,000+\n",
      "bp e-store :  1,000+\n",
      "Brilliant Quotes: Life, Love, Family & Motivation :  1,000,000+\n",
      "BR Ambedkar Biography & Quotes :  10,000+\n",
      "BU Alsace :  100+\n",
      "Catholic La Bu Zo Kam :  500+\n",
      "Khrifa Hla Bu (Solfa) :  10+\n",
      "Kristian Hla Bu :  10,000+\n",
      "SA HLA BU :  1,000+\n",
      "Learn SAP BW :  500+\n",
      "Learn SAP BW on HANA :  500+\n",
      "CA Laws 2018 (California Laws and Codes) :  5,000+\n",
      "Bootable Methods(USB-CD-DVD) :  10,000+\n",
      "cloudLibrary :  100,000+\n",
      "SDA Collegiate Quarterly :  500+\n",
      "Sabbath School :  100,000+\n",
      "Cypress College Library :  100+\n",
      "Stats Royale for Clash Royale :  1,000,000+\n",
      "GATE 21 years CS Papers(2011-2018 Solved) :  50+\n",
      "Learn CT Scan Of Head :  5,000+\n",
      "Easy Cv maker 2018 :  10,000+\n",
      "How to Write CV :  100,000+\n",
      "CW Nuclear :  1,000+\n",
      "CY Spray nozzle :  10+\n",
      "BibleRead En Cy Zh Yue :  5+\n",
      "CZ-Help :  5+\n",
      "Modlitební knížka CZ :  500+\n",
      "Guide for DB Xenoverse :  10,000+\n",
      "Guide for DB Xenoverse 2 :  10,000+\n",
      "Guide for IMS DB :  10+\n",
      "DC HSEMA :  5,000+\n",
      "DC Public Library :  1,000+\n",
      "Painting Lulu DC Super Friends :  1,000+\n",
      "Dictionary :  10,000,000+\n",
      "Fix Error Google Playstore :  1,000+\n",
      "D. H. Lawrence Poems FREE :  1,000+\n",
      "Bilingual Dictionary Audio App :  5,000+\n",
      "DM Screen :  10,000+\n",
      "wikiHow: how to do anything :  1,000,000+\n",
      "Dr. Doug's Tips :  1,000+\n",
      "Bible du Semeur-BDS (French) :  50,000+\n",
      "La citadelle du musulman :  50,000+\n",
      "DV 2019 Entry Guide :  10,000+\n",
      "DV 2019 - EDV Photo & Form :  50,000+\n",
      "DV 2018 Winners Guide :  1,000+\n",
      "EB Annual Meetings :  1,000+\n",
      "EC - AP & Telangana :  5,000+\n",
      "TN Patta Citta & EC :  10,000+\n",
      "AP Stamps and Registration :  10,000+\n",
      "CompactiMa EC pH Calibration :  100+\n",
      "EGW Writings 2 :  100,000+\n",
      "EGW Writings :  1,000,000+\n",
      "Bible with EGW Comments :  100,000+\n",
      "My Little Pony AR Guide :  1,000,000+\n",
      "SDA Sabbath School Quarterly :  500,000+\n",
      "Duaa Ek Ibaadat :  5,000+\n",
      "Spanish English Translator :  10,000,000+\n",
      "Dictionary - Merriam-Webster :  10,000,000+\n",
      "JW Library :  10,000,000+\n",
      "Oxford Dictionary of English : Free :  10,000,000+\n",
      "English Hindi Dictionary :  10,000,000+\n",
      "English to Hindi Dictionary :  5,000,000+\n",
      "EP Research Service :  1,000+\n",
      "Hymnes et Louanges :  100,000+\n",
      "EU Charter :  1,000+\n",
      "EU Data Protection :  1,000+\n",
      "EU IP Codes :  100+\n",
      "EW PDF :  5+\n",
      "BakaReader EX :  100,000+\n",
      "EZ Quran :  50,000+\n",
      "FA Part 1 & 2 Past Papers Solved Free – Offline :  5,000+\n",
      "La Fe de Jesus :  1,000+\n",
      "La Fe de Jesús :  500+\n",
      "Le Fe de Jesus :  500+\n",
      "Florida - Pocket Brainbook :  1,000+\n",
      "Florida Statutes (FL Code) :  1,000+\n",
      "English To Shona Dictionary :  10,000+\n",
      "Greek Bible FP (Audio) :  1,000+\n",
      "Golden Dictionary (FR-AR) :  500,000+\n",
      "Fanfic-FR :  5,000+\n",
      "Bulgarian French Dictionary Fr :  10,000+\n",
      "Chemin (fr) :  1,000+\n",
      "The SCP Foundation DB fr nn5n :  1,000+\n"
     ]
    }
   ],
   "source": [
    "for app in android_final:\n",
    "    app_c = app[1]\n",
    "    if app_c == 'BOOKS_AND_REFERENCE':\n",
    "        print(app[0],': ', app[5])\n",
    "        \n",
    "    "
   ]
  },
  {
   "cell_type": "markdown",
   "metadata": {},
   "source": [
    "There are some very popular apps such as WattPad and Google Play Books, which could potentially skew the dataset: "
   ]
  },
  {
   "cell_type": "code",
   "execution_count": 31,
   "metadata": {},
   "outputs": [
    {
     "name": "stdout",
     "output_type": "stream",
     "text": [
      "Google Play Books :  1,000,000,000+\n",
      "Bible :  100,000,000+\n",
      "Amazon Kindle :  100,000,000+\n",
      "Wattpad 📖 Free Books :  100,000,000+\n",
      "Audiobooks from Audible :  100,000,000+\n"
     ]
    }
   ],
   "source": [
    "for app in android_final:\n",
    "    app_c = app[1]\n",
    "    if app_c == 'BOOKS_AND_REFERENCE' and (app[5] == '1,000,000,000+'\n",
    "                                           or app[5] == '500,000,000+'\n",
    "                                           or app[5] == '100,000,000+'):\n",
    "        print(app[0],': ', app[5])"
   ]
  },
  {
   "cell_type": "markdown",
   "metadata": {},
   "source": [
    "The amount of extremely popular apps does not seem to be as extensive as they were for other categories. There could be potential for this category, but it bears investigating the moderately popular apps. Where we might garner deeper insight into the viability of the genre. "
   ]
  },
  {
   "cell_type": "code",
   "execution_count": 32,
   "metadata": {},
   "outputs": [
    {
     "name": "stdout",
     "output_type": "stream",
     "text": [
      "Wikipedia :  10,000,000+\n",
      "Cool Reader :  10,000,000+\n",
      "Book store :  1,000,000+\n",
      "FBReader: Favorite Book Reader :  10,000,000+\n",
      "Free Books - Spirit Fanfiction and Stories :  1,000,000+\n",
      "AlReader -any text book reader :  5,000,000+\n",
      "FamilySearch Tree :  1,000,000+\n",
      "Cloud of Books :  1,000,000+\n",
      "ReadEra – free ebook reader :  1,000,000+\n",
      "Ebook Reader :  5,000,000+\n",
      "Read books online :  5,000,000+\n",
      "eBoox: book reader fb2 epub zip :  1,000,000+\n",
      "All Maths Formulas :  1,000,000+\n",
      "Ancestry :  5,000,000+\n",
      "HTC Help :  10,000,000+\n",
      "Moon+ Reader :  10,000,000+\n",
      "English-Myanmar Dictionary :  1,000,000+\n",
      "Golden Dictionary (EN-AR) :  1,000,000+\n",
      "All Language Translator Free :  1,000,000+\n",
      "Aldiko Book Reader :  10,000,000+\n",
      "Dictionary - WordWeb :  5,000,000+\n",
      "50000 Free eBooks & Free AudioBooks :  5,000,000+\n",
      "Al-Quran (Free) :  10,000,000+\n",
      "Al Quran Indonesia :  10,000,000+\n",
      "Al'Quran Bahasa Indonesia :  10,000,000+\n",
      "Al Quran Al karim :  1,000,000+\n",
      "Al Quran : EAlim - Translations & MP3 Offline :  5,000,000+\n",
      "Koran Read &MP3 30 Juz Offline :  1,000,000+\n",
      "Hafizi Quran 15 lines per page :  1,000,000+\n",
      "Quran for Android :  10,000,000+\n",
      "Satellite AR :  1,000,000+\n",
      "Oxford A-Z of English Usage :  1,000,000+\n",
      "Dictionary.com: Find Definitions for English Words :  10,000,000+\n",
      "English Dictionary - Offline :  10,000,000+\n",
      "Bible KJV :  5,000,000+\n",
      "NOOK: Read eBooks & Magazines :  10,000,000+\n",
      "Brilliant Quotes: Life, Love, Family & Motivation :  1,000,000+\n",
      "Stats Royale for Clash Royale :  1,000,000+\n",
      "Dictionary :  10,000,000+\n",
      "wikiHow: how to do anything :  1,000,000+\n",
      "EGW Writings :  1,000,000+\n",
      "My Little Pony AR Guide :  1,000,000+\n",
      "Spanish English Translator :  10,000,000+\n",
      "Dictionary - Merriam-Webster :  10,000,000+\n",
      "JW Library :  10,000,000+\n",
      "Oxford Dictionary of English : Free :  10,000,000+\n",
      "English Hindi Dictionary :  10,000,000+\n",
      "English to Hindi Dictionary :  5,000,000+\n"
     ]
    }
   ],
   "source": [
    "for app in android_final:\n",
    "    app_c = app[1]\n",
    "    if app_c == 'BOOKS_AND_REFERENCE' and (app[5] == '50,000,000+'\n",
    "                                           or app[5] == '10,000,000+'\n",
    "                                           or app[5] == '5,000,000+'\n",
    "                                           or app[5] == '1,000,000+'):\n",
    "        print(app[0],': ', app[5])"
   ]
  },
  {
   "cell_type": "markdown",
   "metadata": {},
   "source": [
    "Book readers seem to be very popular within this area, and it could be a viable idea to base ones app of a book. Most of the apps made that are moderately popular seem to be centered around books, and most of them seem to take the shape of being book readers. There are furthermore popular apps based on singular books, as we saw with the Apple Store.\n",
    "\n",
    "Most of the apps in the genre are, as mentioned previously, libraries or dictionaires. But there are also some popular apps based on books such as the Quran, which would suggest that apps focusing on singular books also hold the potential to be popular. \n",
    "\n",
    "\n",
    "## Conclusions\n",
    "\n",
    "One viable strategy for the recommended app profile could be to develop a book reader.  But it would be important to distinguish the app from other apps in the genre. Some possible avenues could be to focus more on modern literature, or try to find a popular and specialised area of literature to focus the app on. There could furthermore be oppurtunities within the functionality of the app. One could for example strive to add functionality such as forums, recommendations, bonus content, reading lists etc. in order to distinguish the app from more well-established reading apps. \n",
    "\n",
    "Another alternative would be to build an app focusing on a book, or smaller collection of books, in order to distinguish and specalize the apps further. This would also allow for more in-depth functionality within the app which could be a viable selling-point for users. This could be implemented as a app focusing on a sub-genre, author or series where the app offers reading functionality, but also focuses on offering bonus content, behind-the-scenes-content and discussion forums for fans to discuss the book and present their fan-made work. "
   ]
  }
 ],
 "metadata": {
  "kernelspec": {
   "display_name": "Python 3 (ipykernel)",
   "language": "python",
   "name": "python3"
  },
  "language_info": {
   "codemirror_mode": {
    "name": "ipython",
    "version": 3
   },
   "file_extension": ".py",
   "mimetype": "text/x-python",
   "name": "python",
   "nbconvert_exporter": "python",
   "pygments_lexer": "ipython3",
   "version": "3.11.7"
  }
 },
 "nbformat": 4,
 "nbformat_minor": 4
}
